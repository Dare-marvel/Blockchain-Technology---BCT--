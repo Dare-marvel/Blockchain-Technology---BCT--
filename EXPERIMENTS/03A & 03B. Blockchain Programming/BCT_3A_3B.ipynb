{
  "nbformat": 4,
  "nbformat_minor": 0,
  "metadata": {
    "colab": {
      "provenance": []
    },
    "kernelspec": {
      "name": "python3",
      "display_name": "Python 3"
    },
    "language_info": {
      "name": "python"
    }
  },
  "cells": [
    {
      "cell_type": "code",
      "execution_count": null,
      "metadata": {
        "id": "ymdlGA9RZWNE",
        "colab": {
          "base_uri": "https://localhost:8080/"
        },
        "outputId": "febdaa7d-e58f-4cac-fe49-ede4257b4cad"
      },
      "outputs": [
        {
          "output_type": "stream",
          "name": "stdout",
          "text": [
            "Collecting pymerkle\n",
            "  Downloading pymerkle-6.1.0-py3-none-any.whl (34 kB)\n",
            "Collecting cachetools==5.3.1 (from pymerkle)\n",
            "  Downloading cachetools-5.3.1-py3-none-any.whl (9.3 kB)\n",
            "Installing collected packages: cachetools, pymerkle\n",
            "  Attempting uninstall: cachetools\n",
            "    Found existing installation: cachetools 5.3.3\n",
            "    Uninstalling cachetools-5.3.3:\n",
            "      Successfully uninstalled cachetools-5.3.3\n",
            "Successfully installed cachetools-5.3.1 pymerkle-6.1.0\n"
          ]
        }
      ],
      "source": [
        "!pip install pymerkle\n"
      ]
    },
    {
      "cell_type": "code",
      "source": [
        "import hashlib\n",
        "import datetime\n",
        "import time\n",
        "import matplotlib.pyplot as plt\n",
        "\n",
        "class Block:\n",
        "   def __init__(self, data, previous_hash=None):\n",
        "       self.timestamp = datetime.datetime.now()\n",
        "       self.data = data\n",
        "       self.previous_hash = previous_hash\n",
        "       self.hash = self.calculate_hash()\n",
        "\n",
        "   def calculate_hash(self):\n",
        "       sha = hashlib.sha256()\n",
        "       sha.update(str(self.timestamp).encode('utf-8') +\n",
        "                  str(self.data).encode('utf-8') +\n",
        "                  str(self.previous_hash).encode('utf-8'))\n",
        "       return sha.hexdigest()\n",
        "\n",
        "class Blockchain:\n",
        "   def __init__(self):\n",
        "       self.chain = [self.create_genesis_block()]\n",
        "\n",
        "\n",
        "   def create_genesis_block(self):\n",
        "       return Block(\"Genesis Block\", \"0\")\n",
        "\n",
        "\n",
        "   def add_block(self, data, difficulty):\n",
        "       start_time = time.time()\n",
        "       previous_hash = self.chain[-1].hash\n",
        "       new_block = Block(data, previous_hash)\n",
        "       new_block = self.proof_of_work(new_block, difficulty)\n",
        "       self.chain.append(new_block)\n",
        "       end_time = time.time()\n",
        "       time_taken = end_time - start_time\n",
        "       print(f\"Block mined in {time_taken:.4f} seconds with difficulty level {difficulty}\")\n",
        "       return time_taken\n",
        "\n",
        "\n",
        "   def proof_of_work(self, block, difficulty):\n",
        "       prefix_zeros = '0' * difficulty\n",
        "       while True:\n",
        "           if block.hash[:difficulty] == prefix_zeros:\n",
        "               return block\n",
        "           else:\n",
        "               block.timestamp = datetime.datetime.now()\n",
        "               block.hash = block.calculate_hash()\n",
        "\n",
        "\n",
        "   def print_last_block(self):\n",
        "       last_block = self.chain[-1]\n",
        "       print(\"Last Block:\")\n",
        "       print(\"Timestamp:\", last_block.timestamp)\n",
        "       print(\"Data:\", last_block.data)\n",
        "       print(\"Previous Hash:\", last_block.previous_hash)\n",
        "       print(\"Hash:\", last_block.hash)\n",
        "\n",
        "\n",
        "# Test the blockchain\n",
        "blockchain = Blockchain()\n",
        "data = \"Block A Data\"\n",
        "\n",
        "\n",
        "difficulty_levels = range(8)\n",
        "times = []\n",
        "\n",
        "\n",
        "for difficulty in difficulty_levels:\n",
        "   time_taken = blockchain.add_block(data, difficulty)\n",
        "   times.append(time_taken)"
      ],
      "metadata": {
        "colab": {
          "base_uri": "https://localhost:8080/"
        },
        "id": "MrrQKSUVa7dV",
        "outputId": "3b67b9f0-5ec2-42cf-c798-687c667d6765"
      },
      "execution_count": null,
      "outputs": [
        {
          "output_type": "stream",
          "name": "stdout",
          "text": [
            "Block mined in 0.0000 seconds with difficulty level 0\n",
            "Block mined in 0.0002 seconds with difficulty level 1\n",
            "Block mined in 0.0038 seconds with difficulty level 2\n",
            "Block mined in 0.0098 seconds with difficulty level 3\n",
            "Block mined in 0.3602 seconds with difficulty level 4\n",
            "Block mined in 14.1644 seconds with difficulty level 5\n",
            "Block mined in 144.2386 seconds with difficulty level 6\n"
          ]
        }
      ]
    },
    {
      "cell_type": "code",
      "source": [
        "plt.plot(difficulty_levels, times, marker='o')\n",
        "plt.title(\"Difficulty vs. Time\")\n",
        "plt.xlabel(\"Difficulty Level\")\n",
        "plt.ylabel(\"Time Taken (seconds)\")\n",
        "plt.xticks(difficulty_levels)\n",
        "plt.grid(True)\n",
        "plt.show()"
      ],
      "metadata": {
        "id": "jCFGP0Jzbhvf"
      },
      "execution_count": null,
      "outputs": []
    },
    {
      "cell_type": "code",
      "source": [
        "pip install pymerkle\n",
        "from pymerkle import *\n",
        "tree=MerkleTree()"
      ],
      "metadata": {
        "id": "971ODubxbie9"
      },
      "execution_count": null,
      "outputs": []
    },
    {
      "cell_type": "code",
      "source": [
        "with open('current_state', 'w') as f:\n",
        "    f.write(tree.__repr__())"
      ],
      "metadata": {
        "id": "zoPBY9Nsbnol"
      },
      "execution_count": null,
      "outputs": []
    },
    {
      "cell_type": "code",
      "source": [
        "tree.export('backup.json')"
      ],
      "metadata": {
        "id": "YK3ckXnqbrSY"
      },
      "execution_count": null,
      "outputs": []
    },
    {
      "cell_type": "code",
      "source": [
        "loaded_tree = MerkleTree.loadFromFile('backup.json')\n",
        "\n",
        "from pymerkle import InmemoryTree as MerkleTree\n",
        "tree = MerkleTree(algorithm=\"sha256\")\n",
        "for i in range(1, 11):\n",
        "  tree.append_entry(bytes((\"Transaction \"+str(i)).encode()))\n",
        "size = tree.get_size()\n",
        "print(\"Tree size: \", size)\n",
        "print(tree)"
      ],
      "metadata": {
        "id": "8W-IIo-pbtTK"
      },
      "execution_count": null,
      "outputs": []
    },
    {
      "cell_type": "code",
      "source": [
        "# Task 1: Perform cryptographic hash functions md5 and SHA\n",
        "\n",
        "import hashlib\n",
        "\n",
        "# MD5\n",
        "message = \"Adwait studies in SPIT\"\n",
        "md5_hash = hashlib.md5(message.encode()).hexdigest()\n",
        "print(\"MD5 hash of '{}': {}\".format(message, md5_hash))\n",
        "\n",
        "# SHA-256\n",
        "sha256_hash = hashlib.sha256(message.encode()).hexdigest()\n",
        "print(\"SHA-256 hash of '{}': {}\".format(message, sha256_hash))\n",
        "\n"
      ],
      "metadata": {
        "colab": {
          "base_uri": "https://localhost:8080/"
        },
        "id": "twpJmusUcaLA",
        "outputId": "b32e97d9-efd4-4586-8b0b-4feb5441125f"
      },
      "execution_count": null,
      "outputs": [
        {
          "output_type": "stream",
          "name": "stdout",
          "text": [
            "MD5 hash of 'Adwait studies in SPIT': 0390e2caf223ec1c2d096ba6f4625925\n",
            "SHA-256 hash of 'Adwait studies in SPIT': a41d6a433e92921f5a22efdfb471548fb70fc18132f5624c1d0652edc3488b78\n"
          ]
        }
      ]
    },
    {
      "cell_type": "code",
      "source": [
        "# Task 2: Demonstrate properties of cryptographic hash functions\n",
        "\n",
        "# Collision resistance\n",
        "message1 = \"I am Adwait\"\n",
        "message2 = \"Who are you\"  # Different message\n",
        "sha256_hash1 = hashlib.sha256(message1.encode()).hexdigest()\n",
        "sha256_hash2 = hashlib.sha256(message2.encode()).hexdigest()\n",
        "print(\"\\nCollision resistance:\")\n",
        "print(\"Hash of '{}': {}\".format(message1, sha256_hash1))\n",
        "print(\"Hash of '{}': {}\".format(message2, sha256_hash2))\n",
        "\n",
        "# Preimage resistance\n",
        "target_hash = \"e3b0c44298fc1c149afbf4c8996fb92427ae41e4649b934ca495991b7852b855\"\n",
        "try:\n",
        "    preimage = hashlib.sha256(b\"\").hexdigest()\n",
        "    if preimage == target_hash:\n",
        "        print(\"\\nPreimage found for '{}': {}\".format(target_hash, preimage))\n",
        "    else:\n",
        "        print(\"\\nNo preimage found for '{}'\".format(target_hash))\n",
        "except:\n",
        "    print(\"\\nError occurred while finding preimage\")\n",
        "\n"
      ],
      "metadata": {
        "colab": {
          "base_uri": "https://localhost:8080/"
        },
        "id": "pe6HWyP_cyl9",
        "outputId": "9297b7b0-c457-4ddf-d0f1-e5bd90dd6df5"
      },
      "execution_count": null,
      "outputs": [
        {
          "output_type": "stream",
          "name": "stdout",
          "text": [
            "\n",
            "Collision resistance:\n",
            "Hash of 'I am Adwait': 9d588e2269812ba6071cd9d09af3bf18af47cb9b3721e69fd36b66efa8d5afc6\n",
            "Hash of 'Who are you': cda67fda126b21c0ec146b48ecf36e7d4d63a19c6bfea63180bb95c713105ab6\n",
            "\n",
            "Preimage found for 'e3b0c44298fc1c149afbf4c8996fb92427ae41e4649b934ca495991b7852b855': e3b0c44298fc1c149afbf4c8996fb92427ae41e4649b934ca495991b7852b855\n"
          ]
        }
      ]
    },
    {
      "cell_type": "code",
      "source": [
        "# Task 3: Use pymerkle library to compute hash of transactions\n",
        "\n",
        "from pymerkle import InmemoryTree as MerkleTree\n",
        "\n",
        "tree = MerkleTree(algorithm=\"sha256\")\n",
        "\n",
        "for i in range(1, 11):\n",
        "    tree.append_entry(bytes((\"Transaction \" + str(i)).encode()))\n",
        "\n",
        "size = tree.get_size()\n",
        "print(\"\\nTree size: \", size)\n",
        "print(tree)\n",
        "\n"
      ],
      "metadata": {
        "colab": {
          "base_uri": "https://localhost:8080/"
        },
        "id": "-MSnNKKNc4cA",
        "outputId": "9784b92b-5a3a-4673-b1c2-bfb2cda4a745"
      },
      "execution_count": null,
      "outputs": [
        {
          "output_type": "stream",
          "name": "stdout",
          "text": [
            "\n",
            "Tree size:  10\n",
            "\n",
            "\n",
            " └─a36453ab...\n",
            "    ├──20800467...\n",
            "    │   ├──0ce72ddb...\n",
            "    │   │   ├──3bf08fe8...\n",
            "    │   │   │   ├──8aeac43a...\n",
            "    │   │   │   └──379f886c...\n",
            "    │   │   └──52b7009a...\n",
            "    │   │       ├──8b57e888...\n",
            "    │   │       └──fcb7c9ab...\n",
            "    │   └──afcedaba...\n",
            "    │       ├──4403e2a2...\n",
            "    │       │   ├──c542d24e...\n",
            "    │       │   └──6cee2862...\n",
            "    │       └──fc7f7935...\n",
            "    │           ├──d5ffab37...\n",
            "    │           └──93dbd74a...\n",
            "    └──5f9ca73c...\n",
            "        ├──dbba524f...\n",
            "        └──9ceda457...\n",
            "\n",
            "\n"
          ]
        }
      ]
    },
    {
      "cell_type": "code",
      "source": [
        "# Task 4: Compute the root hash (merkle root) for 11 transactions\n",
        "\n",
        "import datetime\n",
        "import hashlib\n",
        "import time\n",
        "\n",
        "class Block:\n",
        "    def __init__(self, data, previous_hash=None):\n",
        "        self.timestamp = datetime.datetime.now()\n",
        "        self.data = data\n",
        "        self.previous_hash = previous_hash\n",
        "        self.hash = self.calculate_hash()\n",
        "\n",
        "    def calculate_hash(self):\n",
        "        sha = hashlib.sha256()\n",
        "        sha.update(str(self.timestamp).encode('utf-8') +\n",
        "                   str(self.data).encode('utf-8') +\n",
        "                   str(self.previous_hash).encode('utf-8'))\n",
        "        return sha.hexdigest()\n",
        "\n",
        "class Blockchain:\n",
        "    def __init__(self):\n",
        "        self.chain = [self.create_genesis_block()]\n",
        "\n",
        "    def create_genesis_block(self):\n",
        "        return Block(\"Genesis Block\", \"0\")\n",
        "\n",
        "    def add_block(self, data, difficulty):\n",
        "        start_time = time.time()\n",
        "        previous_hash = self.chain[-1].hash\n",
        "        new_block = Block(data, previous_hash)\n",
        "        new_block = self.proof_of_work(new_block, difficulty)\n",
        "        self.chain.append(new_block)\n",
        "        end_time = time.time()\n",
        "        time_taken = end_time - start_time\n",
        "        print(f\"Block mined in {time_taken:.4f} seconds with difficulty level {difficulty}\")\n",
        "        return time_taken\n",
        "\n",
        "    def proof_of_work(self, block, difficulty):\n",
        "        prefix_zeros = '0' * difficulty\n",
        "        while True:\n",
        "            if block.hash[:difficulty] == prefix_zeros:\n",
        "                return block\n",
        "            else:\n",
        "                block.timestamp = datetime.datetime.now()\n",
        "                block.hash = block.calculate_hash()\n",
        "\n",
        "    def print_last_block(self):\n",
        "        last_block = self.chain[-1]\n",
        "        print(\"Last Block:\")\n",
        "        print(\"Timestamp:\", last_block.timestamp)\n",
        "        print(\"Data:\", last_block.data)\n",
        "        print(\"Previous Hash:\", last_block.previous_hash)\n",
        "        print(\"Hash:\", last_block.hash)\n",
        "\n",
        "blockchain = Blockchain()\n",
        "data = \"Block A Data\"\n",
        "difficulty_levels = range(8)\n",
        "times = []\n",
        "\n",
        "for difficulty in difficulty_levels:\n",
        "    time_taken = blockchain.add_block(data, difficulty)\n",
        "    times.append(time_taken)\n",
        "\n",
        "import matplotlib.pyplot as plt\n",
        "\n",
        "plt.plot(difficulty_levels, times, marker='o')\n",
        "plt.title(\"Difficulty vs. Time\")\n",
        "plt.xlabel(\"Difficulty Level\")\n",
        "plt.ylabel(\"Time Taken (seconds)\")\n",
        "plt.xticks(difficulty_levels)\n",
        "plt.grid(True)\n",
        "plt.show()"
      ],
      "metadata": {
        "colab": {
          "base_uri": "https://localhost:8080/",
          "height": 663
        },
        "id": "hVk6GbO7dNvK",
        "outputId": "9b698644-a82c-4b57-cff6-567d7389950a"
      },
      "execution_count": null,
      "outputs": [
        {
          "output_type": "stream",
          "name": "stdout",
          "text": [
            "Block mined in 0.0000 seconds with difficulty level 0\n",
            "Block mined in 0.0001 seconds with difficulty level 1\n",
            "Block mined in 0.0008 seconds with difficulty level 2\n",
            "Block mined in 0.0029 seconds with difficulty level 3\n",
            "Block mined in 0.1944 seconds with difficulty level 4\n",
            "Block mined in 5.7005 seconds with difficulty level 5\n",
            "Block mined in 5.3402 seconds with difficulty level 6\n",
            "Block mined in 3175.2366 seconds with difficulty level 7\n"
          ]
        },
        {
          "output_type": "display_data",
          "data": {
            "text/plain": [
              "<Figure size 640x480 with 1 Axes>"
            ],
            "image/png": "[encoded data removed]"
          },
          "metadata": {}
        },
        {
          "output_type": "stream",
          "name": "stdout",
          "text": [
            "\n",
            "Computing root hash for 11 transactions...\n",
            "Root hash (merkle root) for 11 transactions: <pymerkle.concrete.inmemory.Node object at 0x7b24dd397e00>\n"
          ]
        }
      ]
    },
    {
      "cell_type": "code",
      "source": [
        "# Compute root hash (merkle root) for 11 transactions\n",
        "# print(\"\\nComputing root hash for 11 transactions...\")\n",
        "# merkle_tree = MerkleTree(algorithm=\"sha256\")\n",
        "# for i in range(1, 12):\n",
        "#     merkle_tree.append_entry(bytes((\"Transaction \" + str(i)).encode()))\n",
        "# root_hash = merkle_tree.root\n",
        "# print(\"Root hash (merkle root) for 11 transactions:\", root_hash)"
      ],
      "metadata": {
        "id": "h5YhUr_rrMT8"
      },
      "execution_count": null,
      "outputs": []
    }
  ]
}